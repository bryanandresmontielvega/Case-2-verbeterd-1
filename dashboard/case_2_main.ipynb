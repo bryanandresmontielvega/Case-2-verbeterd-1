{
 "cells": [
  {
   "cell_type": "code",
   "execution_count": 23,
   "id": "6dbb88bd",
   "metadata": {},
   "outputs": [],
   "source": [
    "from key import API_KEY\n",
    "import json\n",
    "import requests\n",
    "import pandas as pd\n"
   ]
  },
  {
   "cell_type": "code",
   "execution_count": 24,
   "id": "0148aa69",
   "metadata": {},
   "outputs": [
    {
     "name": "stdout",
     "output_type": "stream",
     "text": [
      "API_KEY: 6d5acf37da\n"
     ]
    }
   ],
   "source": [
    "# API key voor data opvragen\n",
    "print(f'API_KEY: {API_KEY}')"
   ]
  },
  {
   "cell_type": "code",
   "execution_count": 28,
   "id": "93424028",
   "metadata": {},
   "outputs": [
    {
     "name": "stdout",
     "output_type": "stream",
     "text": [
      "https://weerlive.nl/api/weerlive_api_v2.php?key=6d5acf37da&locatie=Amsterdam\n"
     ]
    }
   ],
   "source": [
    "url_string = f'https://weerlive.nl/api/weerlive_api_v2.php?key={API_KEY}&locatie=Amsterdam'\n",
    "print(url_string)\n",
    "response = requests.get(url_string)\n",
    "\n",
    "# Parse JSON\n",
    "json_data = response.json()\n",
    "\n",
    "live_weer_df = pd.DataFrame(json_data[\"liveweer\"])\n",
    "dagverwachting_df = pd.DataFrame(json_data[\"wk_verw\"])\n",
    "uursverwachting_df = pd.DataFrame(json_data[\"uur_verw\"])\n",
    "\n",
    "\n",
    "\n"
   ]
  },
  {
   "cell_type": "code",
   "execution_count": null,
   "id": "9a51623b",
   "metadata": {},
   "outputs": [],
   "source": []
  }
 ],
 "metadata": {
  "kernelspec": {
   "display_name": "base",
   "language": "python",
   "name": "python3"
  },
  "language_info": {
   "codemirror_mode": {
    "name": "ipython",
    "version": 3
   },
   "file_extension": ".py",
   "mimetype": "text/x-python",
   "name": "python",
   "nbconvert_exporter": "python",
   "pygments_lexer": "ipython3",
   "version": "3.13.5"
  }
 },
 "nbformat": 4,
 "nbformat_minor": 5
}
